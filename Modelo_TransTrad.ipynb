{
  "cells": [
    {
      "cell_type": "code",
      "execution_count": 7,
      "id": "40970f8c",
      "metadata": {
        "id": "40970f8c"
      },
      "outputs": [],
      "source": [
        "import os\n",
        "import pandas as pd\n",
        "import numpy as np\n",
        "from PIL import Image, ImageEnhance\n",
        "import random\n",
        "from tqdm import tqdm\n",
        "import cv2\n",
        "\n"
      ]
    },
    {
      "cell_type": "code",
      "execution_count": 8,
      "id": "814e4f55",
      "metadata": {
        "id": "814e4f55"
      },
      "outputs": [],
      "source": [
        "\n",
        "# Configuración\n",
        "INPUT_CSV = \"C:/Users/34629/TFG/single_label_dataset_without_H.csv\"\n",
        "OUTPUT_DIR = 'C:/Users/34629//TFG/augmented_images'\n",
        "TARGET_COUNT = 2000  # Número objetivo de imágenes por clase\n",
        "CLASSES = ['G', 'C', 'A', 'M']  # Clases minoritarias\n",
        "\n",
        "# Crear directorio de salida si no existe\n",
        "os.makedirs(OUTPUT_DIR, exist_ok=True)\n",
        "\n"
      ]
    },
    {
      "cell_type": "code",
      "execution_count": 9,
      "id": "e56942c0",
      "metadata": {},
      "outputs": [
        {
          "name": "stdout",
          "output_type": "stream",
          "text": [
            "Número total de filas: 6699\n"
          ]
        }
      ],
      "source": [
        "df_leido = pd.read_csv(INPUT_CSV, sep=';')\n",
        "\n",
        "# Mostrar el número total de filas\n",
        "print(f\"Número total de filas: {len(df_leido)}\")"
      ]
    },
    {
      "cell_type": "code",
      "execution_count": 10,
      "id": "dfa28a86",
      "metadata": {
        "id": "dfa28a86"
      },
      "outputs": [],
      "source": [
        "\n",
        "def load_and_preprocess_image(image_path):\n",
        "    \"\"\"Carga y preprocesa la imagen\"\"\"\n",
        "    try:\n",
        "        img = cv2.imread(image_path)\n",
        "        if img is None:\n",
        "            return None\n",
        "        img = cv2.cvtColor(img, cv2.COLOR_BGR2RGB)\n",
        "        return img\n",
        "    except Exception as e:\n",
        "        print(f\"Error loading image {image_path}: {e}\")\n",
        "        return None\n",
        "\n"
      ]
    },
    {
      "cell_type": "code",
      "execution_count": 11,
      "id": "f2d9332a",
      "metadata": {
        "id": "f2d9332a"
      },
      "outputs": [],
      "source": [
        "\n",
        "def apply_augmentation(image):\n",
        "    \"\"\"Aplica una combinación aleatoria de transformaciones\"\"\"\n",
        "    transformations = []\n",
        "\n",
        "    # 1. Rotación aleatoria\n",
        "    angle = random.choice([90, 180, 270])\n",
        "    rows, cols = image.shape[:2]\n",
        "    M = cv2.getRotationMatrix2D((cols/2, rows/2), angle, 1)\n",
        "    image = cv2.warpAffine(image, M, (cols, rows))\n",
        "    transformations.append(f\"rot_{angle}\")\n",
        "\n",
        "    # 2. Flip horizontal o vertical\n",
        "    if random.random() > 0.5:\n",
        "        image = cv2.flip(image, 1)  # 1 para flip horizontal\n",
        "        transformations.append(\"flip_h\")\n",
        "    if random.random() > 0.5:\n",
        "        image = cv2.flip(image, 0)  # 0 para flip vertical\n",
        "        transformations.append(\"flip_v\")\n",
        "\n",
        "    # 3. Brillo y contraste\n",
        "    alpha = random.uniform(0.8, 1.2)  # Contraste\n",
        "    beta = random.uniform(-30, 30)    # Brillo\n",
        "    image = cv2.convertScaleAbs(image, alpha=alpha, beta=beta)\n",
        "    transformations.append(f\"bright_{beta:.1f}_cont_{alpha:.1f}\")\n",
        "\n",
        "    # 4. Traslación aleatoria\n",
        "    tx = random.randint(-50, 50)\n",
        "    ty = random.randint(-50, 50)\n",
        "    M = np.float32([[1, 0, tx], [0, 1, ty]])\n",
        "    image = cv2.warpAffine(image, M, (cols, rows))\n",
        "    transformations.append(f\"trans_{tx}_{ty}\")\n",
        "\n",
        "    # 5. Zoom aleatorio\n",
        "    if random.random() > 0.5:\n",
        "        scale = random.uniform(0.8, 1.2)\n",
        "        M = cv2.getRotationMatrix2D((cols/2, rows/2), 0, scale)\n",
        "        image = cv2.warpAffine(image, M, (cols, rows))\n",
        "        transformations.append(f\"zoom_{scale:.1f}\")\n",
        "\n",
        "    # 6. Ruido gaussiano\n",
        "    if random.random() > 0.5:\n",
        "        noise = np.random.normal(0, 25, image.shape).astype(np.uint8)\n",
        "        image = cv2.add(image, noise)\n",
        "        transformations.append(\"noise\")\n",
        "\n",
        "    return image, \"_\".join(transformations)\n",
        "\n"
      ]
    },
    {
      "cell_type": "code",
      "execution_count": 12,
      "id": "92d758b7",
      "metadata": {
        "id": "92d758b7",
        "outputId": "9fe99f32-6e06-410d-da16-186333fad0cd"
      },
      "outputs": [
        {
          "name": "stdout",
          "output_type": "stream",
          "text": [
            "\n",
            "Procesando clase G: generando 1740 nuevas imágenes\n"
          ]
        },
        {
          "name": "stderr",
          "output_type": "stream",
          "text": [
            "100%|██████████| 1740/1740 [22:12<00:00,  1.31it/s] \n"
          ]
        },
        {
          "name": "stdout",
          "output_type": "stream",
          "text": [
            "\n",
            "Procesando clase C: generando 1708 nuevas imágenes\n"
          ]
        },
        {
          "name": "stderr",
          "output_type": "stream",
          "text": [
            "100%|██████████| 1708/1708 [08:25<00:00,  3.38it/s]\n"
          ]
        },
        {
          "name": "stdout",
          "output_type": "stream",
          "text": [
            "\n",
            "Procesando clase A: generando 1758 nuevas imágenes\n"
          ]
        },
        {
          "name": "stderr",
          "output_type": "stream",
          "text": [
            "100%|██████████| 1758/1758 [07:37<00:00,  3.84it/s]\n"
          ]
        },
        {
          "name": "stdout",
          "output_type": "stream",
          "text": [
            "\n",
            "Procesando clase M: generando 1762 nuevas imágenes\n"
          ]
        },
        {
          "name": "stderr",
          "output_type": "stream",
          "text": [
            "100%|██████████| 1762/1762 [07:34<00:00,  3.88it/s]\n"
          ]
        }
      ],
      "source": [
        "\n",
        "# Leer el dataset\n",
        "df = pd.read_csv(INPUT_CSV, sep=';')\n",
        "\n",
        "# Lista para almacenar las nuevas filas\n",
        "new_rows = []\n",
        "\n",
        "# Procesar cada clase minoritaria\n",
        "for class_name in CLASSES:\n",
        "    # Obtener imágenes de la clase actual\n",
        "    class_images = df[df[class_name] == 1]\n",
        "    current_count = len(class_images)\n",
        "    needed_count = TARGET_COUNT - current_count\n",
        "\n",
        "    print(f\"\\nProcesando clase {class_name}: generando {needed_count} nuevas imágenes\")\n",
        "\n",
        "    # Generar nuevas imágenes hasta alcanzar el objetivo\n",
        "    for i in tqdm(range(needed_count)):\n",
        "        # Seleccionar una imagen aleatoria de la clase\n",
        "        original_row = class_images.sample(1).iloc[0]\n",
        "\n",
        "        # Cargar y aumentar la imagen\n",
        "        image = load_and_preprocess_image(original_row['Image_Path'])\n",
        "        if image is None:\n",
        "            continue\n",
        "\n",
        "        # Aplicar augmentación\n",
        "        augmented_image, transform_desc = apply_augmentation(image)\n",
        "\n",
        "        # Generar nuevo nombre de archivo y guardarlo\n",
        "        base_name = os.path.basename(original_row['Image_Path'])\n",
        "        new_filename = f\"{class_name}_aug_{i}_{transform_desc}_{base_name}\"\n",
        "        new_path = os.path.join(OUTPUT_DIR, new_filename).replace('\\\\', '/')\n",
        "\n",
        "        # Guardar la imagen aumentada\n",
        "        cv2.imwrite(new_path, cv2.cvtColor(augmented_image, cv2.COLOR_RGB2BGR))\n",
        "\n",
        "        # Crear nueva fila para el CSV\n",
        "        new_row = original_row.copy()\n",
        "        new_row['Image_Path'] = new_path\n",
        "        new_rows.append(new_row)\n",
        "\n",
        "\n",
        "\n",
        "# Crear DataFrame con las nuevas imágenes\n",
        "aug_df = pd.DataFrame(new_rows)"
      ]
    },
    {
      "cell_type": "code",
      "execution_count": 13,
      "id": "ca30766d",
      "metadata": {
        "id": "ca30766d"
      },
      "outputs": [],
      "source": [
        "\n",
        "# Concatenar con el dataset original y guardar\n",
        "df_final = pd.concat([df, aug_df], ignore_index=True)\n",
        "df_final.to_csv('C:/Users/34629/TFG/augmented_dataset.csv', sep=';', index=False)"
      ]
    },
    {
      "cell_type": "code",
      "execution_count": 14,
      "id": "2d9dc6f7",
      "metadata": {
        "id": "2d9dc6f7",
        "outputId": "2567b40e-56d7-4295-d0f2-0bd38ab6b611"
      },
      "outputs": [
        {
          "name": "stdout",
          "output_type": "stream",
          "text": [
            "\n",
            "Estadísticas finales:\n",
            "Clase G:\n",
            "  - Original: 260 imágenes\n",
            "  - Final: 2000 imágenes\n",
            "  - Generadas: 1740 imágenes\n",
            "Clase C:\n",
            "  - Original: 292 imágenes\n",
            "  - Final: 2000 imágenes\n",
            "  - Generadas: 1708 imágenes\n",
            "Clase A:\n",
            "  - Original: 242 imágenes\n",
            "  - Final: 2000 imágenes\n",
            "  - Generadas: 1758 imágenes\n",
            "Clase M:\n",
            "  - Original: 238 imágenes\n",
            "  - Final: 2000 imágenes\n",
            "  - Generadas: 1762 imágenes\n"
          ]
        }
      ],
      "source": [
        "\n",
        "# Mostrar estadísticas finales\n",
        "print(\"\\nEstadísticas finales:\")\n",
        "for class_name in CLASSES:\n",
        "    original_count = len(df[df[class_name] == 1])\n",
        "    final_count = len(df_final[df_final[class_name] == 1])\n",
        "    print(f\"Clase {class_name}:\")\n",
        "    print(f\"  - Original: {original_count} imágenes\")\n",
        "    print(f\"  - Final: {final_count} imágenes\")\n",
        "    print(f\"  - Generadas: {final_count - original_count} imágenes\")"
      ]
    },
    {
      "cell_type": "code",
      "execution_count": 15,
      "id": "4c0b6c84",
      "metadata": {},
      "outputs": [
        {
          "data": {
            "image/png": "[encoded data removed]",
            "text/plain": [
              "<Figure size 1200x600 with 1 Axes>"
            ]
          },
          "metadata": {},
          "output_type": "display_data"
        },
        {
          "name": "stdout",
          "output_type": "stream",
          "text": [
            "\n",
            "Número exacto de imágenes por clase:\n",
            "Normal (N): 3102\n",
            "Diabetes (D): 1666\n",
            "Glaucoma (G): 2000\n",
            "Cataract (C): 2000\n",
            "AMD (A): 2000\n",
            "Myopia (M): 2000\n",
            "Others (O): 899\n"
          ]
        }
      ],
      "source": [
        "import pandas as pd\n",
        "import matplotlib.pyplot as plt\n",
        "import seaborn as sns\n",
        "\n",
        "# Leer el dataset\n",
        "df = pd.read_csv('C:/Users/34629/TFG/augmented_dataset.csv', sep=';')\n",
        "\n",
        "# Contar el número de imágenes por clase\n",
        "class_counts = {\n",
        "    'Normal (N)': df['N'].sum(),\n",
        "    'Diabetes (D)': df['D'].sum(),\n",
        "    'Glaucoma (G)': df['G'].sum(),\n",
        "    'Cataract (C)': df['C'].sum(),\n",
        "    'AMD (A)': df['A'].sum(),\n",
        "    'Myopia (M)': df['M'].sum(),\n",
        "    'Others (O)': df['O'].sum()\n",
        "}\n",
        "\n",
        "# Crear el gráfico de barras\n",
        "plt.figure(figsize=(12, 6))\n",
        "bars = plt.bar(class_counts.keys(), class_counts.values())\n",
        "plt.title('Distribución de Imágenes por Clase', pad=20)\n",
        "plt.xlabel('Clases')\n",
        "plt.ylabel('Número de Imágenes')\n",
        "\n",
        "# Rotar las etiquetas para mejor legibilidad\n",
        "plt.xticks(rotation=45, ha='right')\n",
        "\n",
        "# Añadir los valores sobre las barras\n",
        "for bar in bars:\n",
        "    height = bar.get_height()\n",
        "    plt.text(bar.get_x() + bar.get_width()/2., height,\n",
        "             f'{int(height)}',\n",
        "             ha='center', va='bottom')\n",
        "\n",
        "# Ajustar el layout para que no se corten las etiquetas\n",
        "plt.tight_layout()\n",
        "\n",
        "# Mostrar el gráfico\n",
        "plt.show()\n",
        "\n",
        "# Imprimir los valores exactos\n",
        "print(\"\\nNúmero exacto de imágenes por clase:\")\n",
        "for clase, cantidad in class_counts.items():\n",
        "    print(f\"{clase}: {int(cantidad)}\")"
      ]
    }
  ],
  "metadata": {
    "colab": {
      "provenance": []
    },
    "kernelspec": {
      "display_name": "env",
      "language": "python",
      "name": "python3"
    },
    "language_info": {
      "codemirror_mode": {
        "name": "ipython",
        "version": 3
      },
      "file_extension": ".py",
      "mimetype": "text/x-python",
      "name": "python",
      "nbconvert_exporter": "python",
      "pygments_lexer": "ipython3",
      "version": "3.11.9"
    }
  },
  "nbformat": 4,
  "nbformat_minor": 5
}
